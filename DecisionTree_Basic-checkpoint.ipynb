{
  "cells": [
    {
      "cell_type": "code",
      "execution_count": null,
      "metadata": {},
      "outputs": [],
      "source": [
        "# Basic Decision Tree for Jet Engine Fault Detection\n",
        "import numpy as np\n",
        "import pandas as pd\n",
        "from pathlib import Path\n",
        "\n",
        "from sklearn.model_selection import train_test_split\n",
        "from sklearn.pipeline import Pipeline\n",
        "from sklearn.compose import ColumnTransformer\n",
        "from sklearn.preprocessing import StandardScaler\n",
        "from sklearn.tree import DecisionTreeClassifier\n",
        "from sklearn.metrics import accuracy_score, classification_report, confusion_matrix\n",
        "\n",
        "DATA_PATH = 'engine_fault_detection_dataset.csv'\n",
        "TARGET_COL = 'Engine_Condition'\n"
      ]
    },
    {
      "cell_type": "code",
      "execution_count": null,
      "metadata": {},
      "outputs": [],
      "source": [
        "# Load data\n",
        "engine_df = pd.read_csv(DATA_PATH)\n",
        "print('Loaded:', engine_df.shape)\n",
        "engine_df.head()\n"
      ]
    },
    {
      "cell_type": "code",
      "execution_count": null,
      "metadata": {},
      "outputs": [],
      "source": [
        "# Split and preprocessing\n",
        "X = engine_df.drop(columns=[TARGET_COL])\n",
        "y = engine_df[TARGET_COL]\n",
        "\n",
        "X_train, X_test, y_train, y_test = train_test_split(\n",
        "    X, y, test_size=0.2, random_state=42, stratify=y\n",
        ")\n",
        "\n",
        "numeric_features = X_train.select_dtypes(include=np.number).columns.tolist()\n",
        "preprocessor = ColumnTransformer([\n",
        "    ('num', StandardScaler(), numeric_features),\n",
        "], remainder='drop')\n",
        "\n",
        "print('Train:', X_train.shape, 'Test:', X_test.shape)\n"
      ]
    },
    {
      "cell_type": "code",
      "execution_count": null,
      "metadata": {},
      "outputs": [],
      "source": [
        "# Basic Decision Tree model\n",
        "basic_dt = DecisionTreeClassifier(random_state=42)\n",
        "\n",
        "pipeline = Pipeline([\n",
        "    ('preprocess', preprocessor),\n",
        "    ('model', basic_dt)\n",
        "])\n",
        "\n",
        "pipeline.fit(X_train, y_train)\n",
        "y_pred = pipeline.predict(X_test)\n",
        "\n",
        "print('Accuracy:', accuracy_score(y_test, y_pred))\n",
        "print('Classification Report:\\n', classification_report(y_test, y_pred))\n",
        "print('Confusion Matrix:\\n', confusion_matrix(y_test, y_pred))\n"
      ]
    },
    {
      "cell_type": "code",
      "execution_count": null,
      "metadata": {},
      "outputs": [],
      "source": [
        "# Save model and metadata for frontend use\n",
        "import joblib\n",
        "artifacts_dir = Path('artifacts')\n",
        "artifacts_dir.mkdir(exist_ok=True)\n",
        "\n",
        "model_path = artifacts_dir / 'jet_fault_model_decision_tree.pkl'\n",
        "joblib.dump(pipeline, model_path)\n",
        "\n",
        "feature_metadata = {\n",
        "    'numeric_features': numeric_features,\n",
        "    'target': TARGET_COL,\n",
        "    'classes_': sorted(y.unique())\n",
        "}\n",
        "joblib.dump(feature_metadata, artifacts_dir / 'feature_metadata.pkl')\n",
        "\n",
        "print(f\"Saved model to: {model_path}\")\n"
      ]
    }
  ],
  "metadata": {
    "language_info": {
      "name": "python"
    }
  },
  "nbformat": 4,
  "nbformat_minor": 2
}
